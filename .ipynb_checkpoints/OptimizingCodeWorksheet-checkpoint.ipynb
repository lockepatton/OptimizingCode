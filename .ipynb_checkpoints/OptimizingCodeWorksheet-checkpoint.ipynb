{
 "cells": [
  {
   "cell_type": "code",
   "execution_count": 1,
   "id": "criminal-domestic",
   "metadata": {},
   "outputs": [],
   "source": [
    "import numpy as np\n",
    "import pandas as pd"
   ]
  },
  {
   "cell_type": "code",
   "execution_count": 34,
   "id": "novel-salem",
   "metadata": {},
   "outputs": [],
   "source": [
    "sentence = ['This','is','a','sentence.']"
   ]
  },
  {
   "cell_type": "markdown",
   "id": "excited-alexander",
   "metadata": {},
   "source": [
    "### 0. %timeit and %time "
   ]
  },
  {
   "cell_type": "code",
   "execution_count": 4,
   "id": "olympic-sessions",
   "metadata": {},
   "outputs": [
    {
     "name": "stdout",
     "output_type": "stream",
     "text": [
      "10.7 ns ± 0.314 ns per loop (mean ± std. dev. of 7 runs, 100000000 loops each)\n",
      "1\n"
     ]
    }
   ],
   "source": [
    "%timeit x = 1"
   ]
  },
  {
   "cell_type": "code",
   "execution_count": 6,
   "id": "significant-shell",
   "metadata": {},
   "outputs": [
    {
     "name": "stdout",
     "output_type": "stream",
     "text": [
      "15.2 µs ± 404 ns per loop (mean ± std. dev. of 7 runs, 100000 loops each)\n"
     ]
    }
   ],
   "source": [
    "%timeit for _ in range(1000): True"
   ]
  },
  {
   "cell_type": "code",
   "execution_count": 7,
   "id": "addressed-mediterranean",
   "metadata": {
    "scrolled": true
   },
   "outputs": [
    {
     "name": "stdout",
     "output_type": "stream",
     "text": [
      "CPU times: user 2 µs, sys: 1e+03 ns, total: 3 µs\n",
      "Wall time: 4.77 µs\n",
      "0\n",
      "1\n",
      "2\n",
      "3\n",
      "4\n",
      "5\n",
      "6\n",
      "7\n",
      "8\n",
      "9\n",
      "10\n",
      "11\n",
      "12\n",
      "13\n",
      "14\n",
      "15\n",
      "16\n",
      "17\n",
      "18\n",
      "19\n",
      "20\n",
      "21\n",
      "22\n",
      "23\n",
      "24\n",
      "25\n",
      "26\n",
      "27\n",
      "28\n",
      "29\n",
      "30\n",
      "31\n",
      "32\n",
      "33\n",
      "34\n",
      "35\n",
      "36\n",
      "37\n",
      "38\n",
      "39\n",
      "40\n",
      "41\n",
      "42\n",
      "43\n",
      "44\n",
      "45\n",
      "46\n",
      "47\n",
      "48\n",
      "49\n",
      "50\n",
      "51\n",
      "52\n",
      "53\n",
      "54\n",
      "55\n",
      "56\n",
      "57\n",
      "58\n",
      "59\n",
      "60\n",
      "61\n",
      "62\n",
      "63\n",
      "64\n",
      "65\n",
      "66\n",
      "67\n",
      "68\n",
      "69\n",
      "70\n",
      "71\n",
      "72\n",
      "73\n",
      "74\n",
      "75\n",
      "76\n",
      "77\n",
      "78\n",
      "79\n",
      "80\n",
      "81\n",
      "82\n",
      "83\n",
      "84\n",
      "85\n",
      "86\n",
      "87\n",
      "88\n",
      "89\n",
      "90\n",
      "91\n",
      "92\n",
      "93\n",
      "94\n",
      "95\n",
      "96\n",
      "97\n",
      "98\n",
      "99\n"
     ]
    }
   ],
   "source": [
    "%time\n",
    "for test in range(100):\n",
    "    print(test)"
   ]
  },
  {
   "cell_type": "markdown",
   "id": "irish-touch",
   "metadata": {},
   "source": [
    "### 1. List comprehensions"
   ]
  },
  {
   "cell_type": "code",
   "execution_count": 25,
   "id": "spoken-knitting",
   "metadata": {},
   "outputs": [
    {
     "name": "stdout",
     "output_type": "stream",
     "text": [
      "CPU times: user 2 µs, sys: 0 ns, total: 2 µs\n",
      "Wall time: 4.77 µs\n",
      "[1, 1, 0]\n"
     ]
    }
   ],
   "source": [
    "%time\n",
    "input_list = [1, 2, -3]\n",
    "output_list = []\n",
    "\n",
    "for x in input_list:\n",
    "    if x >=0:\n",
    "        output_list.append(1)\n",
    "    elif x<-1:\n",
    "        output_list.append(0)\n",
    "        \n",
    "print(output_list)"
   ]
  },
  {
   "cell_type": "code",
   "execution_count": 21,
   "id": "raised-bride",
   "metadata": {},
   "outputs": [
    {
     "name": "stdout",
     "output_type": "stream",
     "text": [
      "CPU times: user 3 µs, sys: 0 ns, total: 3 µs\n",
      "Wall time: 5.01 µs\n"
     ]
    },
    {
     "data": {
      "text/plain": [
       "[1, 1, 0]"
      ]
     },
     "execution_count": 21,
     "metadata": {},
     "output_type": "execute_result"
    }
   ],
   "source": [
    "%time\n",
    "output_list = [1 if x >= 0 else 0 for x in input_list]\n",
    "output_list"
   ]
  },
  {
   "cell_type": "code",
   "execution_count": 24,
   "id": "american-cleveland",
   "metadata": {},
   "outputs": [
    {
     "name": "stdout",
     "output_type": "stream",
     "text": [
      "CPU times: user 2 µs, sys: 1 µs, total: 3 µs\n",
      "Wall time: 5.01 µs\n"
     ]
    },
    {
     "data": {
      "text/plain": [
       "[True, True, False]"
      ]
     },
     "execution_count": 24,
     "metadata": {},
     "output_type": "execute_result"
    }
   ],
   "source": [
    "%time\n",
    "output_list = [(x >= 0) for x in input_list]\n",
    "output_list"
   ]
  },
  {
   "cell_type": "markdown",
   "id": "textile-recruitment",
   "metadata": {},
   "source": [
    "### 1.1 Avoid for-loops and list comprehensions where possible"
   ]
  },
  {
   "cell_type": "code",
   "execution_count": 49,
   "id": "renewable-southwest",
   "metadata": {},
   "outputs": [
    {
     "data": {
      "text/plain": [
       "[0, 0, 0, 0]"
      ]
     },
     "execution_count": 49,
     "metadata": {},
     "output_type": "execute_result"
    }
   ],
   "source": [
    "my_list2 = [0] * len(sentence)\n",
    "my_list2"
   ]
  },
  {
   "cell_type": "markdown",
   "id": "creative-simple",
   "metadata": {},
   "source": [
    "### 2. reduce memory footprint - examples with strings"
   ]
  },
  {
   "cell_type": "code",
   "execution_count": 29,
   "id": "infrared-fancy",
   "metadata": {},
   "outputs": [],
   "source": [
    "msg = 'line1n'\n",
    "msg += 'line2n'\n",
    "msg += 'line3n'"
   ]
  },
  {
   "cell_type": "code",
   "execution_count": 30,
   "id": "suspected-international",
   "metadata": {},
   "outputs": [
    {
     "data": {
      "text/plain": [
       "'line1nline2nline3'"
      ]
     },
     "execution_count": 30,
     "metadata": {},
     "output_type": "execute_result"
    }
   ],
   "source": [
    "msg = ['line1', 'line2', 'line3']\n",
    "'n'.join(msg)"
   ]
  },
  {
   "cell_type": "code",
   "execution_count": null,
   "id": "fatal-namibia",
   "metadata": {},
   "outputs": [],
   "source": [
    "# slow\n",
    "msg = 'hello ' + my_var + ' world'\n",
    "\n",
    "# faster\n",
    "msg = 'hello %s world' % my_var\n",
    "\n",
    "# or better:\n",
    "msg = 'hello {} world'.format(my_var)"
   ]
  },
  {
   "cell_type": "code",
   "execution_count": 28,
   "id": "toxic-discount",
   "metadata": {},
   "outputs": [
    {
     "data": {
      "text/plain": [
       "'hello new world'"
      ]
     },
     "execution_count": 28,
     "metadata": {},
     "output_type": "execute_result"
    }
   ],
   "source": [
    "my_var = 'new'\n",
    "msg = f'hello {my_var} world'\n",
    "msg"
   ]
  },
  {
   "cell_type": "markdown",
   "id": "instrumental-experiment",
   "metadata": {},
   "source": [
    "### 3. use built in functions"
   ]
  },
  {
   "cell_type": "code",
   "execution_count": 36,
   "id": "competent-camera",
   "metadata": {},
   "outputs": [
    {
     "data": {
      "text/plain": [
       "['THIS', 'IS', 'A', 'SENTENCE.']"
      ]
     },
     "execution_count": 36,
     "metadata": {},
     "output_type": "execute_result"
    }
   ],
   "source": [
    "oldlist = sentence\n",
    "newlist = []\n",
    "for word in oldlist:\n",
    "    newlist.append(word.upper())\n",
    "newlist"
   ]
  },
  {
   "cell_type": "code",
   "execution_count": 42,
   "id": "great-chester",
   "metadata": {},
   "outputs": [
    {
     "data": {
      "text/plain": [
       "['THIS', 'IS', 'A', 'SENTENCE.']"
      ]
     },
     "execution_count": 42,
     "metadata": {},
     "output_type": "execute_result"
    }
   ],
   "source": [
    "newlist = list(map(str.upper, oldlist))  # wiki cites map as a for loop moved into C code\n",
    "newlist"
   ]
  },
  {
   "cell_type": "code",
   "execution_count": 53,
   "id": "approved-wichita",
   "metadata": {},
   "outputs": [],
   "source": [
    "sentence_combined = ' '.join(sentence)"
   ]
  },
  {
   "cell_type": "code",
   "execution_count": 54,
   "id": "current-reader",
   "metadata": {},
   "outputs": [
    {
     "data": {
      "text/plain": [
       "'This is a sentence.'"
      ]
     },
     "execution_count": 54,
     "metadata": {},
     "output_type": "execute_result"
    }
   ],
   "source": [
    "sentence_combined"
   ]
  },
  {
   "cell_type": "markdown",
   "id": "administrative-geography",
   "metadata": {},
   "source": [
    "### 4. avoid unnecissary functions"
   ]
  },
  {
   "cell_type": "markdown",
   "id": "ancient-respect",
   "metadata": {},
   "source": [
    "### 5. avoid the dot"
   ]
  },
  {
   "cell_type": "code",
   "execution_count": null,
   "id": "accessible-wisconsin",
   "metadata": {},
   "outputs": [],
   "source": [
    "rectangle_height = rectangle.height\n",
    "rectangle_width = rectangle.width"
   ]
  },
  {
   "cell_type": "code",
   "execution_count": null,
   "id": "abandoned-expert",
   "metadata": {},
   "outputs": [],
   "source": [
    "surface = rectangle_height * rectangle_width\n",
    "perimeter = 2 * rectangle_height + 2 * rectangle_width"
   ]
  },
  {
   "cell_type": "markdown",
   "id": "approximate-symbol",
   "metadata": {},
   "source": [
    "### Now it's our turn - let's try a fun one:\n",
    "\n",
    "- What is the most common letter found in the names of states in the USA?"
   ]
  },
  {
   "cell_type": "code",
   "execution_count": 55,
   "id": "framed-dictionary",
   "metadata": {},
   "outputs": [],
   "source": [
    "sates_list = \"\"\"Alabama\n",
    "Alaska\n",
    "Arizona\n",
    "Arkansas\n",
    "California\n",
    "Colorado\n",
    "Connecticut\n",
    "Delaware\n",
    "Florida\n",
    "Georgia\n",
    "Hawaii\n",
    "Idaho\n",
    "Illinois\n",
    "Indiana\n",
    "Iowa\n",
    "Kansas\n",
    "Kentucky\n",
    "Louisiana\n",
    "Maine\n",
    "Maryland\n",
    "Massachusetts\n",
    "Michigan\n",
    "Minnesota\n",
    "Mississippi\n",
    "Missouri\n",
    "Montana\n",
    "Nebraska\n",
    "Nevada\n",
    "New Hampshire\n",
    "New Jersey\n",
    "New Mexico\n",
    "New York\n",
    "North Carolina\n",
    "North Dakota\n",
    "Ohio\n",
    "Oklahoma\n",
    "Oregon\n",
    "Pennsylvania\n",
    "Rhode Island\n",
    "South Carolina\n",
    "South Dakota\n",
    "Tennessee\n",
    "Texas\n",
    "Utah\n",
    "Vermont\n",
    "Virginia\n",
    "Washington\n",
    "West Virginia\n",
    "Wisconsin\n",
    "Wyoming\"\"\""
   ]
  },
  {
   "cell_type": "code",
   "execution_count": null,
   "id": "sophisticated-deficit",
   "metadata": {},
   "outputs": [],
   "source": []
  }
 ],
 "metadata": {
  "kernelspec": {
   "display_name": "Python 3",
   "language": "python",
   "name": "python3"
  },
  "language_info": {
   "codemirror_mode": {
    "name": "ipython",
    "version": 3
   },
   "file_extension": ".py",
   "mimetype": "text/x-python",
   "name": "python",
   "nbconvert_exporter": "python",
   "pygments_lexer": "ipython3",
   "version": "3.7.6"
  }
 },
 "nbformat": 4,
 "nbformat_minor": 5
}
